{
  "nbformat": 4,
  "nbformat_minor": 0,
  "metadata": {
    "colab": {
      "name": "word_cloud.ipynb",
      "provenance": []
    },
    "kernelspec": {
      "name": "python3",
      "display_name": "Python 3"
    }
  },
  "cells": [
    {
      "cell_type": "markdown",
      "metadata": {
        "id": "O-vi4nDBVCLb",
        "colab_type": "text"
      },
      "source": [
        "Installation\n",
        "\n",
        "option 01: IF you need basic features <br />\n",
        "pip install wordcloud\n",
        "<br /><br />\n",
        "\n",
        "option 02: For advanced features <br />\n",
        "git clone https://github.com/amueller/word_cloud.git\n",
        "<br />\n",
        "cd word_cloud\n",
        "<br />\n",
        "pip install"
      ]
    },
    {
      "cell_type": "code",
      "metadata": {
        "id": "VAn85clOUuo0",
        "colab_type": "code",
        "colab": {}
      },
      "source": [
        "!git clone https://github.com/amueller/word_cloud.git"
      ],
      "execution_count": null,
      "outputs": []
    },
    {
      "cell_type": "code",
      "metadata": {
        "id": "mBmRVen8WEdy",
        "colab_type": "code",
        "colab": {}
      },
      "source": [
        "%cd word_cloud\n",
        "!pip install .\n",
        "%cd .."
      ],
      "execution_count": null,
      "outputs": []
    },
    {
      "cell_type": "code",
      "metadata": {
        "id": "02KR2Tx38gRx",
        "colab_type": "code",
        "colab": {}
      },
      "source": [
        "from wordcloud import WordCloud\n",
        "import matplotlib.pyplot as plt\n",
        "\n",
        "# Example text:\n",
        "text = 'Python Python Java Java Python Python Java ruby ruby scala Python'\n",
        "\n",
        "wordcloud = WordCloud().generate(text)\n",
        "plt.figure(figsize=[13,25])\n",
        "# Display the word cloud\n",
        "plt.imshow(wordcloud, interpolation='bilinear')\n",
        "#\n",
        "plt.axis(\"off\")\n",
        "plt.show()"
      ],
      "execution_count": null,
      "outputs": []
    },
    {
      "cell_type": "code",
      "metadata": {
        "id": "i6-Vo2SG3bBE",
        "colab_type": "code",
        "colab": {}
      },
      "source": [
        "from wordcloud import WordCloud\n",
        "import matplotlib.pyplot as plt\n",
        "\n",
        "fl = open('sample_file_1.txt')\n",
        "text = fl.read()\n",
        "\n",
        "wordcloud = WordCloud().generate(text)\n",
        "plt.figure(figsize=[13,25])\n",
        "# Display the word cloud\n",
        "plt.imshow(wordcloud, interpolation='bilinear')\n",
        "#\n",
        "plt.axis(\"off\")\n",
        "plt.show()"
      ],
      "execution_count": null,
      "outputs": []
    },
    {
      "cell_type": "code",
      "metadata": {
        "id": "UA7cGAERL5hZ",
        "colab_type": "code",
        "colab": {}
      },
      "source": [
        "import numpy as np\n",
        "from PIL import Image\n",
        "from wordcloud import WordCloud, ImageColorGenerator\n",
        "\n",
        "# load the mask image\n",
        "mask = np.array(Image.open(\"india.jpg\"))\n",
        "\n",
        "fl = open('sample_file_1.txt')\n",
        "text = fl.read()\n",
        "\n",
        "# Masking process\n",
        "wordcloud_usa = WordCloud(background_color=\"white\", mode=\"RGB\", max_words=1000, mask=mask).generate(text)\n",
        "\n",
        "# coloring from mask image\n",
        "image_colors = ImageColorGenerator(mask)\n",
        "\n",
        "# Display the image\n",
        "plt.figure(figsize=[13,15])\n",
        "plt.imshow(wordcloud_usa.recolor(color_func=image_colors), interpolation=\"bilinear\")\n",
        "plt.axis(\"off\")\n",
        "plt.show()"
      ],
      "execution_count": null,
      "outputs": []
    }
  ]
}